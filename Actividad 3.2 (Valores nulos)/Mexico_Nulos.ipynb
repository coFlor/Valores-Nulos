{
 "cells": [
  {
   "cell_type": "markdown",
   "metadata": {},
   "source": [
    "**Actividad 3.2(Valores nulos) - México - Equipo 7**"
   ]
  },
  {
   "cell_type": "code",
   "execution_count": 1,
   "metadata": {},
   "outputs": [],
   "source": [
    "import pandas as pd\n",
    "import numpy as np\n",
    "import matplotlib.pyplot as plt"
   ]
  },
  {
   "cell_type": "code",
   "execution_count": 2,
   "metadata": {},
   "outputs": [
    {
     "data": {
      "text/html": [
       "<div>\n",
       "<style scoped>\n",
       "    .dataframe tbody tr th:only-of-type {\n",
       "        vertical-align: middle;\n",
       "    }\n",
       "\n",
       "    .dataframe tbody tr th {\n",
       "        vertical-align: top;\n",
       "    }\n",
       "\n",
       "    .dataframe thead th {\n",
       "        text-align: right;\n",
       "    }\n",
       "</style>\n",
       "<table border=\"1\" class=\"dataframe\">\n",
       "  <thead>\n",
       "    <tr style=\"text-align: right;\">\n",
       "      <th></th>\n",
       "      <th>id</th>\n",
       "      <th>listing_url</th>\n",
       "      <th>scrape_id</th>\n",
       "      <th>last_scraped</th>\n",
       "      <th>source</th>\n",
       "      <th>name</th>\n",
       "      <th>description</th>\n",
       "      <th>neighborhood_overview</th>\n",
       "      <th>picture_url</th>\n",
       "      <th>host_id</th>\n",
       "      <th>...</th>\n",
       "      <th>review_scores_communication</th>\n",
       "      <th>review_scores_location</th>\n",
       "      <th>review_scores_value</th>\n",
       "      <th>license</th>\n",
       "      <th>instant_bookable</th>\n",
       "      <th>calculated_host_listings_count</th>\n",
       "      <th>calculated_host_listings_count_entire_homes</th>\n",
       "      <th>calculated_host_listings_count_private_rooms</th>\n",
       "      <th>calculated_host_listings_count_shared_rooms</th>\n",
       "      <th>reviews_per_month</th>\n",
       "    </tr>\n",
       "  </thead>\n",
       "  <tbody>\n",
       "    <tr>\n",
       "      <th>0</th>\n",
       "      <td>35797</td>\n",
       "      <td>https://www.airbnb.com/rooms/35797</td>\n",
       "      <td>20240925021012</td>\n",
       "      <td>2024-09-25</td>\n",
       "      <td>city scrape</td>\n",
       "      <td>Villa Dante</td>\n",
       "      <td>Dentro de Villa un estudio de arte con futon, ...</td>\n",
       "      <td>Santa Fe Mall, Interloma Park and the Lion Des...</td>\n",
       "      <td>https://a0.muscache.com/pictures/f395ab78-1185...</td>\n",
       "      <td>153786</td>\n",
       "      <td>...</td>\n",
       "      <td>NaN</td>\n",
       "      <td>NaN</td>\n",
       "      <td>NaN</td>\n",
       "      <td>NaN</td>\n",
       "      <td>f</td>\n",
       "      <td>1</td>\n",
       "      <td>1</td>\n",
       "      <td>0</td>\n",
       "      <td>0</td>\n",
       "      <td>NaN</td>\n",
       "    </tr>\n",
       "    <tr>\n",
       "      <th>1</th>\n",
       "      <td>44616</td>\n",
       "      <td>https://www.airbnb.com/rooms/44616</td>\n",
       "      <td>20240925021012</td>\n",
       "      <td>2024-09-26</td>\n",
       "      <td>previous scrape</td>\n",
       "      <td>Condesa Haus</td>\n",
       "      <td>A new concept of hosting in mexico through a b...</td>\n",
       "      <td>NaN</td>\n",
       "      <td>https://a0.muscache.com/pictures/251410/ec75fe...</td>\n",
       "      <td>196253</td>\n",
       "      <td>...</td>\n",
       "      <td>4.78</td>\n",
       "      <td>4.98</td>\n",
       "      <td>4.48</td>\n",
       "      <td>NaN</td>\n",
       "      <td>f</td>\n",
       "      <td>8</td>\n",
       "      <td>4</td>\n",
       "      <td>1</td>\n",
       "      <td>0</td>\n",
       "      <td>0.41</td>\n",
       "    </tr>\n",
       "    <tr>\n",
       "      <th>2</th>\n",
       "      <td>67703</td>\n",
       "      <td>https://www.airbnb.com/rooms/67703</td>\n",
       "      <td>20240925021012</td>\n",
       "      <td>2024-09-26</td>\n",
       "      <td>city scrape</td>\n",
       "      <td>2 bedroom apt. deco bldg, Condesa</td>\n",
       "      <td>Comfortably furnished, sunny, 2 bedroom apt., ...</td>\n",
       "      <td>NaN</td>\n",
       "      <td>https://a0.muscache.com/pictures/3281720/6f078...</td>\n",
       "      <td>334451</td>\n",
       "      <td>...</td>\n",
       "      <td>4.92</td>\n",
       "      <td>4.98</td>\n",
       "      <td>4.91</td>\n",
       "      <td>NaN</td>\n",
       "      <td>f</td>\n",
       "      <td>2</td>\n",
       "      <td>2</td>\n",
       "      <td>0</td>\n",
       "      <td>0</td>\n",
       "      <td>0.31</td>\n",
       "    </tr>\n",
       "    <tr>\n",
       "      <th>3</th>\n",
       "      <td>70644</td>\n",
       "      <td>https://www.airbnb.com/rooms/70644</td>\n",
       "      <td>20240925021012</td>\n",
       "      <td>2024-09-25</td>\n",
       "      <td>city scrape</td>\n",
       "      <td>Beautiful light Studio Coyoacan- full equipped !</td>\n",
       "      <td>COYOACAN designer studio quiet &amp; safe! well eq...</td>\n",
       "      <td>Coyoacan is a beautiful neighborhood famous fo...</td>\n",
       "      <td>https://a0.muscache.com/pictures/f397d2da-d045...</td>\n",
       "      <td>212109</td>\n",
       "      <td>...</td>\n",
       "      <td>4.98</td>\n",
       "      <td>4.96</td>\n",
       "      <td>4.92</td>\n",
       "      <td>NaN</td>\n",
       "      <td>f</td>\n",
       "      <td>3</td>\n",
       "      <td>2</td>\n",
       "      <td>1</td>\n",
       "      <td>0</td>\n",
       "      <td>0.83</td>\n",
       "    </tr>\n",
       "    <tr>\n",
       "      <th>4</th>\n",
       "      <td>107078</td>\n",
       "      <td>https://www.airbnb.com/rooms/107078</td>\n",
       "      <td>20240925021012</td>\n",
       "      <td>2024-09-25</td>\n",
       "      <td>city scrape</td>\n",
       "      <td>NEW  DESIGNER LOFT</td>\n",
       "      <td>Is the best ever place triple L &lt;br /&gt;Location...</td>\n",
       "      <td>Is located in the best area of Mexico City, Po...</td>\n",
       "      <td>https://a0.muscache.com/pictures/bd64f86d-4931...</td>\n",
       "      <td>540705</td>\n",
       "      <td>...</td>\n",
       "      <td>4.73</td>\n",
       "      <td>4.91</td>\n",
       "      <td>4.82</td>\n",
       "      <td>NaN</td>\n",
       "      <td>f</td>\n",
       "      <td>3</td>\n",
       "      <td>3</td>\n",
       "      <td>0</td>\n",
       "      <td>0</td>\n",
       "      <td>0.11</td>\n",
       "    </tr>\n",
       "  </tbody>\n",
       "</table>\n",
       "<p>5 rows × 75 columns</p>\n",
       "</div>"
      ],
      "text/plain": [
       "       id                          listing_url       scrape_id last_scraped  \\\n",
       "0   35797   https://www.airbnb.com/rooms/35797  20240925021012   2024-09-25   \n",
       "1   44616   https://www.airbnb.com/rooms/44616  20240925021012   2024-09-26   \n",
       "2   67703   https://www.airbnb.com/rooms/67703  20240925021012   2024-09-26   \n",
       "3   70644   https://www.airbnb.com/rooms/70644  20240925021012   2024-09-25   \n",
       "4  107078  https://www.airbnb.com/rooms/107078  20240925021012   2024-09-25   \n",
       "\n",
       "            source                                              name  \\\n",
       "0      city scrape                                       Villa Dante   \n",
       "1  previous scrape                                      Condesa Haus   \n",
       "2      city scrape                 2 bedroom apt. deco bldg, Condesa   \n",
       "3      city scrape  Beautiful light Studio Coyoacan- full equipped !   \n",
       "4      city scrape                                NEW  DESIGNER LOFT   \n",
       "\n",
       "                                         description  \\\n",
       "0  Dentro de Villa un estudio de arte con futon, ...   \n",
       "1  A new concept of hosting in mexico through a b...   \n",
       "2  Comfortably furnished, sunny, 2 bedroom apt., ...   \n",
       "3  COYOACAN designer studio quiet & safe! well eq...   \n",
       "4  Is the best ever place triple L <br />Location...   \n",
       "\n",
       "                               neighborhood_overview  \\\n",
       "0  Santa Fe Mall, Interloma Park and the Lion Des...   \n",
       "1                                                NaN   \n",
       "2                                                NaN   \n",
       "3  Coyoacan is a beautiful neighborhood famous fo...   \n",
       "4  Is located in the best area of Mexico City, Po...   \n",
       "\n",
       "                                         picture_url  host_id  ...  \\\n",
       "0  https://a0.muscache.com/pictures/f395ab78-1185...   153786  ...   \n",
       "1  https://a0.muscache.com/pictures/251410/ec75fe...   196253  ...   \n",
       "2  https://a0.muscache.com/pictures/3281720/6f078...   334451  ...   \n",
       "3  https://a0.muscache.com/pictures/f397d2da-d045...   212109  ...   \n",
       "4  https://a0.muscache.com/pictures/bd64f86d-4931...   540705  ...   \n",
       "\n",
       "  review_scores_communication review_scores_location review_scores_value  \\\n",
       "0                         NaN                    NaN                 NaN   \n",
       "1                        4.78                   4.98                4.48   \n",
       "2                        4.92                   4.98                4.91   \n",
       "3                        4.98                   4.96                4.92   \n",
       "4                        4.73                   4.91                4.82   \n",
       "\n",
       "  license instant_bookable calculated_host_listings_count  \\\n",
       "0     NaN                f                              1   \n",
       "1     NaN                f                              8   \n",
       "2     NaN                f                              2   \n",
       "3     NaN                f                              3   \n",
       "4     NaN                f                              3   \n",
       "\n",
       "  calculated_host_listings_count_entire_homes  \\\n",
       "0                                           1   \n",
       "1                                           4   \n",
       "2                                           2   \n",
       "3                                           2   \n",
       "4                                           3   \n",
       "\n",
       "  calculated_host_listings_count_private_rooms  \\\n",
       "0                                            0   \n",
       "1                                            1   \n",
       "2                                            0   \n",
       "3                                            1   \n",
       "4                                            0   \n",
       "\n",
       "  calculated_host_listings_count_shared_rooms reviews_per_month  \n",
       "0                                           0               NaN  \n",
       "1                                           0              0.41  \n",
       "2                                           0              0.31  \n",
       "3                                           0              0.83  \n",
       "4                                           0              0.11  \n",
       "\n",
       "[5 rows x 75 columns]"
      ]
     },
     "execution_count": 2,
     "metadata": {},
     "output_type": "execute_result"
    }
   ],
   "source": [
    "lectura=pd.read_csv(\"Mexico.csv\")\n",
    "lectura.head(5)"
   ]
  },
  {
   "cell_type": "markdown",
   "metadata": {},
   "source": [
    "**Eliminaremos las columnas innecesarias para nuestro análisis**"
   ]
  },
  {
   "cell_type": "code",
   "execution_count": 3,
   "metadata": {},
   "outputs": [
    {
     "data": {
      "text/html": [
       "<div>\n",
       "<style scoped>\n",
       "    .dataframe tbody tr th:only-of-type {\n",
       "        vertical-align: middle;\n",
       "    }\n",
       "\n",
       "    .dataframe tbody tr th {\n",
       "        vertical-align: top;\n",
       "    }\n",
       "\n",
       "    .dataframe thead th {\n",
       "        text-align: right;\n",
       "    }\n",
       "</style>\n",
       "<table border=\"1\" class=\"dataframe\">\n",
       "  <thead>\n",
       "    <tr style=\"text-align: right;\">\n",
       "      <th></th>\n",
       "      <th>id</th>\n",
       "      <th>source</th>\n",
       "      <th>name</th>\n",
       "      <th>description</th>\n",
       "      <th>neighborhood_overview</th>\n",
       "      <th>host_id</th>\n",
       "      <th>host_name</th>\n",
       "      <th>host_response_time</th>\n",
       "      <th>host_response_rate</th>\n",
       "      <th>host_acceptance_rate</th>\n",
       "      <th>...</th>\n",
       "      <th>review_scores_checkin</th>\n",
       "      <th>review_scores_communication</th>\n",
       "      <th>review_scores_location</th>\n",
       "      <th>review_scores_value</th>\n",
       "      <th>instant_bookable</th>\n",
       "      <th>calculated_host_listings_count</th>\n",
       "      <th>calculated_host_listings_count_entire_homes</th>\n",
       "      <th>calculated_host_listings_count_private_rooms</th>\n",
       "      <th>calculated_host_listings_count_shared_rooms</th>\n",
       "      <th>reviews_per_month</th>\n",
       "    </tr>\n",
       "  </thead>\n",
       "  <tbody>\n",
       "    <tr>\n",
       "      <th>0</th>\n",
       "      <td>35797</td>\n",
       "      <td>city scrape</td>\n",
       "      <td>Villa Dante</td>\n",
       "      <td>Dentro de Villa un estudio de arte con futon, ...</td>\n",
       "      <td>Santa Fe Mall, Interloma Park and the Lion Des...</td>\n",
       "      <td>153786</td>\n",
       "      <td>Dici</td>\n",
       "      <td>a few days or more</td>\n",
       "      <td>0%</td>\n",
       "      <td>NaN</td>\n",
       "      <td>...</td>\n",
       "      <td>NaN</td>\n",
       "      <td>NaN</td>\n",
       "      <td>NaN</td>\n",
       "      <td>NaN</td>\n",
       "      <td>f</td>\n",
       "      <td>1</td>\n",
       "      <td>1</td>\n",
       "      <td>0</td>\n",
       "      <td>0</td>\n",
       "      <td>NaN</td>\n",
       "    </tr>\n",
       "    <tr>\n",
       "      <th>1</th>\n",
       "      <td>44616</td>\n",
       "      <td>previous scrape</td>\n",
       "      <td>Condesa Haus</td>\n",
       "      <td>A new concept of hosting in mexico through a b...</td>\n",
       "      <td>NaN</td>\n",
       "      <td>196253</td>\n",
       "      <td>Fernando</td>\n",
       "      <td>within an hour</td>\n",
       "      <td>100%</td>\n",
       "      <td>93%</td>\n",
       "      <td>...</td>\n",
       "      <td>4.87</td>\n",
       "      <td>4.78</td>\n",
       "      <td>4.98</td>\n",
       "      <td>4.48</td>\n",
       "      <td>f</td>\n",
       "      <td>8</td>\n",
       "      <td>4</td>\n",
       "      <td>1</td>\n",
       "      <td>0</td>\n",
       "      <td>0.41</td>\n",
       "    </tr>\n",
       "    <tr>\n",
       "      <th>2</th>\n",
       "      <td>67703</td>\n",
       "      <td>city scrape</td>\n",
       "      <td>2 bedroom apt. deco bldg, Condesa</td>\n",
       "      <td>Comfortably furnished, sunny, 2 bedroom apt., ...</td>\n",
       "      <td>NaN</td>\n",
       "      <td>334451</td>\n",
       "      <td>Nicholas</td>\n",
       "      <td>within an hour</td>\n",
       "      <td>71%</td>\n",
       "      <td>57%</td>\n",
       "      <td>...</td>\n",
       "      <td>4.94</td>\n",
       "      <td>4.92</td>\n",
       "      <td>4.98</td>\n",
       "      <td>4.91</td>\n",
       "      <td>f</td>\n",
       "      <td>2</td>\n",
       "      <td>2</td>\n",
       "      <td>0</td>\n",
       "      <td>0</td>\n",
       "      <td>0.31</td>\n",
       "    </tr>\n",
       "    <tr>\n",
       "      <th>3</th>\n",
       "      <td>70644</td>\n",
       "      <td>city scrape</td>\n",
       "      <td>Beautiful light Studio Coyoacan- full equipped !</td>\n",
       "      <td>COYOACAN designer studio quiet &amp; safe! well eq...</td>\n",
       "      <td>Coyoacan is a beautiful neighborhood famous fo...</td>\n",
       "      <td>212109</td>\n",
       "      <td>Trisha</td>\n",
       "      <td>within a few hours</td>\n",
       "      <td>100%</td>\n",
       "      <td>100%</td>\n",
       "      <td>...</td>\n",
       "      <td>4.96</td>\n",
       "      <td>4.98</td>\n",
       "      <td>4.96</td>\n",
       "      <td>4.92</td>\n",
       "      <td>f</td>\n",
       "      <td>3</td>\n",
       "      <td>2</td>\n",
       "      <td>1</td>\n",
       "      <td>0</td>\n",
       "      <td>0.83</td>\n",
       "    </tr>\n",
       "    <tr>\n",
       "      <th>4</th>\n",
       "      <td>107078</td>\n",
       "      <td>city scrape</td>\n",
       "      <td>NEW  DESIGNER LOFT</td>\n",
       "      <td>Is the best ever place triple L &lt;br /&gt;Location...</td>\n",
       "      <td>Is located in the best area of Mexico City, Po...</td>\n",
       "      <td>540705</td>\n",
       "      <td>Andrea</td>\n",
       "      <td>within an hour</td>\n",
       "      <td>100%</td>\n",
       "      <td>100%</td>\n",
       "      <td>...</td>\n",
       "      <td>5.00</td>\n",
       "      <td>4.73</td>\n",
       "      <td>4.91</td>\n",
       "      <td>4.82</td>\n",
       "      <td>f</td>\n",
       "      <td>3</td>\n",
       "      <td>3</td>\n",
       "      <td>0</td>\n",
       "      <td>0</td>\n",
       "      <td>0.11</td>\n",
       "    </tr>\n",
       "  </tbody>\n",
       "</table>\n",
       "<p>5 rows × 50 columns</p>\n",
       "</div>"
      ],
      "text/plain": [
       "       id           source                                              name  \\\n",
       "0   35797      city scrape                                       Villa Dante   \n",
       "1   44616  previous scrape                                      Condesa Haus   \n",
       "2   67703      city scrape                 2 bedroom apt. deco bldg, Condesa   \n",
       "3   70644      city scrape  Beautiful light Studio Coyoacan- full equipped !   \n",
       "4  107078      city scrape                                NEW  DESIGNER LOFT   \n",
       "\n",
       "                                         description  \\\n",
       "0  Dentro de Villa un estudio de arte con futon, ...   \n",
       "1  A new concept of hosting in mexico through a b...   \n",
       "2  Comfortably furnished, sunny, 2 bedroom apt., ...   \n",
       "3  COYOACAN designer studio quiet & safe! well eq...   \n",
       "4  Is the best ever place triple L <br />Location...   \n",
       "\n",
       "                               neighborhood_overview  host_id host_name  \\\n",
       "0  Santa Fe Mall, Interloma Park and the Lion Des...   153786      Dici   \n",
       "1                                                NaN   196253  Fernando   \n",
       "2                                                NaN   334451  Nicholas   \n",
       "3  Coyoacan is a beautiful neighborhood famous fo...   212109    Trisha   \n",
       "4  Is located in the best area of Mexico City, Po...   540705    Andrea   \n",
       "\n",
       "   host_response_time host_response_rate host_acceptance_rate  ...  \\\n",
       "0  a few days or more                 0%                  NaN  ...   \n",
       "1      within an hour               100%                  93%  ...   \n",
       "2      within an hour                71%                  57%  ...   \n",
       "3  within a few hours               100%                 100%  ...   \n",
       "4      within an hour               100%                 100%  ...   \n",
       "\n",
       "  review_scores_checkin review_scores_communication  review_scores_location  \\\n",
       "0                   NaN                         NaN                     NaN   \n",
       "1                  4.87                        4.78                    4.98   \n",
       "2                  4.94                        4.92                    4.98   \n",
       "3                  4.96                        4.98                    4.96   \n",
       "4                  5.00                        4.73                    4.91   \n",
       "\n",
       "   review_scores_value  instant_bookable calculated_host_listings_count  \\\n",
       "0                  NaN                 f                              1   \n",
       "1                 4.48                 f                              8   \n",
       "2                 4.91                 f                              2   \n",
       "3                 4.92                 f                              3   \n",
       "4                 4.82                 f                              3   \n",
       "\n",
       "  calculated_host_listings_count_entire_homes  \\\n",
       "0                                           1   \n",
       "1                                           4   \n",
       "2                                           2   \n",
       "3                                           2   \n",
       "4                                           3   \n",
       "\n",
       "   calculated_host_listings_count_private_rooms  \\\n",
       "0                                             0   \n",
       "1                                             1   \n",
       "2                                             0   \n",
       "3                                             1   \n",
       "4                                             0   \n",
       "\n",
       "   calculated_host_listings_count_shared_rooms  reviews_per_month  \n",
       "0                                            0                NaN  \n",
       "1                                            0               0.41  \n",
       "2                                            0               0.31  \n",
       "3                                            0               0.83  \n",
       "4                                            0               0.11  \n",
       "\n",
       "[5 rows x 50 columns]"
      ]
     },
     "execution_count": 3,
     "metadata": {},
     "output_type": "execute_result"
    }
   ],
   "source": [
    "mexicoO=lectura.drop([\"listing_url\",\"scrape_id\",\"last_scraped\",\"picture_url\",\"host_url\",\"host_since\",\"host_location\",\"host_about\",\"host_thumbnail_url\",\"host_picture_url\",\"host_neighbourhood\",\"host_listings_count\",\"host_total_listings_count\",\"host_verifications\",\"host_has_profile_pic\",\"host_identity_verified\",\"neighbourhood\",\"bathrooms_text\",\"minimum_minimum_nights\",\"maximum_minimum_nights\",\"minimum_maximum_nights\",\"maximum_maximum_nights\",\"calendar_updated\",\"calendar_last_scraped\",\"license\"],axis=1)\n",
    "mexicoO.head()"
   ]
  },
  {
   "cell_type": "code",
   "execution_count": 4,
   "metadata": {},
   "outputs": [
    {
     "data": {
      "text/plain": [
       "id                                                  0\n",
       "source                                              0\n",
       "name                                                0\n",
       "description                                       933\n",
       "neighborhood_overview                           10895\n",
       "host_id                                             0\n",
       "host_name                                           0\n",
       "host_response_time                               3622\n",
       "host_response_rate                               3622\n",
       "host_acceptance_rate                             2869\n",
       "host_is_superhost                                1509\n",
       "neighbourhood_cleansed                              0\n",
       "neighbourhood_group_cleansed                    26582\n",
       "latitude                                            0\n",
       "longitude                                           0\n",
       "property_type                                       0\n",
       "room_type                                           0\n",
       "accommodates                                        0\n",
       "bathrooms                                        2915\n",
       "bedrooms                                          866\n",
       "beds                                             2953\n",
       "amenities                                           0\n",
       "price                                            2927\n",
       "minimum_nights                                      0\n",
       "maximum_nights                                      0\n",
       "minimum_nights_avg_ntm                              0\n",
       "maximum_nights_avg_ntm                              0\n",
       "has_availability                                 1008\n",
       "availability_30                                     0\n",
       "availability_60                                     0\n",
       "availability_90                                     0\n",
       "availability_365                                    0\n",
       "number_of_reviews                                   0\n",
       "number_of_reviews_ltm                               0\n",
       "number_of_reviews_l30d                              0\n",
       "first_review                                     3656\n",
       "last_review                                      3656\n",
       "review_scores_rating                             3656\n",
       "review_scores_accuracy                           3657\n",
       "review_scores_cleanliness                        3657\n",
       "review_scores_checkin                            3657\n",
       "review_scores_communication                      3657\n",
       "review_scores_location                           3657\n",
       "review_scores_value                              3657\n",
       "instant_bookable                                    0\n",
       "calculated_host_listings_count                      0\n",
       "calculated_host_listings_count_entire_homes         0\n",
       "calculated_host_listings_count_private_rooms        0\n",
       "calculated_host_listings_count_shared_rooms         0\n",
       "reviews_per_month                                3656\n",
       "dtype: int64"
      ]
     },
     "execution_count": 4,
     "metadata": {},
     "output_type": "execute_result"
    }
   ],
   "source": [
    "nulos=mexicoO.isnull().sum()\n",
    "nulos"
   ]
  },
  {
   "cell_type": "code",
   "execution_count": 5,
   "metadata": {},
   "outputs": [
    {
     "data": {
      "text/html": [
       "<div>\n",
       "<style scoped>\n",
       "    .dataframe tbody tr th:only-of-type {\n",
       "        vertical-align: middle;\n",
       "    }\n",
       "\n",
       "    .dataframe tbody tr th {\n",
       "        vertical-align: top;\n",
       "    }\n",
       "\n",
       "    .dataframe thead th {\n",
       "        text-align: right;\n",
       "    }\n",
       "</style>\n",
       "<table border=\"1\" class=\"dataframe\">\n",
       "  <thead>\n",
       "    <tr style=\"text-align: right;\">\n",
       "      <th></th>\n",
       "      <th>id</th>\n",
       "      <th>source</th>\n",
       "      <th>name</th>\n",
       "      <th>description</th>\n",
       "      <th>neighborhood_overview</th>\n",
       "      <th>host_id</th>\n",
       "      <th>host_name</th>\n",
       "      <th>host_response_time</th>\n",
       "      <th>host_response_rate</th>\n",
       "      <th>host_acceptance_rate</th>\n",
       "      <th>...</th>\n",
       "      <th>review_scores_checkin</th>\n",
       "      <th>review_scores_communication</th>\n",
       "      <th>review_scores_location</th>\n",
       "      <th>review_scores_value</th>\n",
       "      <th>instant_bookable</th>\n",
       "      <th>calculated_host_listings_count</th>\n",
       "      <th>calculated_host_listings_count_entire_homes</th>\n",
       "      <th>calculated_host_listings_count_private_rooms</th>\n",
       "      <th>calculated_host_listings_count_shared_rooms</th>\n",
       "      <th>reviews_per_month</th>\n",
       "    </tr>\n",
       "  </thead>\n",
       "  <tbody>\n",
       "    <tr>\n",
       "      <th>0</th>\n",
       "      <td>35797</td>\n",
       "      <td>city scrape</td>\n",
       "      <td>Villa Dante</td>\n",
       "      <td>Dentro de Villa un estudio de arte con futon, ...</td>\n",
       "      <td>Santa Fe Mall, Interloma Park and the Lion Des...</td>\n",
       "      <td>153786</td>\n",
       "      <td>Dici</td>\n",
       "      <td>a few days or more</td>\n",
       "      <td>0%</td>\n",
       "      <td>NaN</td>\n",
       "      <td>...</td>\n",
       "      <td>NaN</td>\n",
       "      <td>NaN</td>\n",
       "      <td>NaN</td>\n",
       "      <td>NaN</td>\n",
       "      <td>f</td>\n",
       "      <td>1</td>\n",
       "      <td>1</td>\n",
       "      <td>0</td>\n",
       "      <td>0</td>\n",
       "      <td>NaN</td>\n",
       "    </tr>\n",
       "    <tr>\n",
       "      <th>1</th>\n",
       "      <td>44616</td>\n",
       "      <td>previous scrape</td>\n",
       "      <td>Condesa Haus</td>\n",
       "      <td>A new concept of hosting in mexico through a b...</td>\n",
       "      <td>NaN</td>\n",
       "      <td>196253</td>\n",
       "      <td>Fernando</td>\n",
       "      <td>within an hour</td>\n",
       "      <td>100%</td>\n",
       "      <td>93%</td>\n",
       "      <td>...</td>\n",
       "      <td>4.87</td>\n",
       "      <td>4.78</td>\n",
       "      <td>4.98</td>\n",
       "      <td>4.48</td>\n",
       "      <td>f</td>\n",
       "      <td>8</td>\n",
       "      <td>4</td>\n",
       "      <td>1</td>\n",
       "      <td>0</td>\n",
       "      <td>0.41</td>\n",
       "    </tr>\n",
       "    <tr>\n",
       "      <th>2</th>\n",
       "      <td>67703</td>\n",
       "      <td>city scrape</td>\n",
       "      <td>2 bedroom apt. deco bldg, Condesa</td>\n",
       "      <td>Comfortably furnished, sunny, 2 bedroom apt., ...</td>\n",
       "      <td>NaN</td>\n",
       "      <td>334451</td>\n",
       "      <td>Nicholas</td>\n",
       "      <td>within an hour</td>\n",
       "      <td>71%</td>\n",
       "      <td>57%</td>\n",
       "      <td>...</td>\n",
       "      <td>4.94</td>\n",
       "      <td>4.92</td>\n",
       "      <td>4.98</td>\n",
       "      <td>4.91</td>\n",
       "      <td>f</td>\n",
       "      <td>2</td>\n",
       "      <td>2</td>\n",
       "      <td>0</td>\n",
       "      <td>0</td>\n",
       "      <td>0.31</td>\n",
       "    </tr>\n",
       "    <tr>\n",
       "      <th>3</th>\n",
       "      <td>70644</td>\n",
       "      <td>city scrape</td>\n",
       "      <td>Beautiful light Studio Coyoacan- full equipped !</td>\n",
       "      <td>COYOACAN designer studio quiet &amp; safe! well eq...</td>\n",
       "      <td>Coyoacan is a beautiful neighborhood famous fo...</td>\n",
       "      <td>212109</td>\n",
       "      <td>Trisha</td>\n",
       "      <td>within a few hours</td>\n",
       "      <td>100%</td>\n",
       "      <td>100%</td>\n",
       "      <td>...</td>\n",
       "      <td>4.96</td>\n",
       "      <td>4.98</td>\n",
       "      <td>4.96</td>\n",
       "      <td>4.92</td>\n",
       "      <td>f</td>\n",
       "      <td>3</td>\n",
       "      <td>2</td>\n",
       "      <td>1</td>\n",
       "      <td>0</td>\n",
       "      <td>0.83</td>\n",
       "    </tr>\n",
       "    <tr>\n",
       "      <th>4</th>\n",
       "      <td>107078</td>\n",
       "      <td>city scrape</td>\n",
       "      <td>NEW  DESIGNER LOFT</td>\n",
       "      <td>Is the best ever place triple L &lt;br /&gt;Location...</td>\n",
       "      <td>Is located in the best area of Mexico City, Po...</td>\n",
       "      <td>540705</td>\n",
       "      <td>Andrea</td>\n",
       "      <td>within an hour</td>\n",
       "      <td>100%</td>\n",
       "      <td>100%</td>\n",
       "      <td>...</td>\n",
       "      <td>5.00</td>\n",
       "      <td>4.73</td>\n",
       "      <td>4.91</td>\n",
       "      <td>4.82</td>\n",
       "      <td>f</td>\n",
       "      <td>3</td>\n",
       "      <td>3</td>\n",
       "      <td>0</td>\n",
       "      <td>0</td>\n",
       "      <td>0.11</td>\n",
       "    </tr>\n",
       "    <tr>\n",
       "      <th>...</th>\n",
       "      <td>...</td>\n",
       "      <td>...</td>\n",
       "      <td>...</td>\n",
       "      <td>...</td>\n",
       "      <td>...</td>\n",
       "      <td>...</td>\n",
       "      <td>...</td>\n",
       "      <td>...</td>\n",
       "      <td>...</td>\n",
       "      <td>...</td>\n",
       "      <td>...</td>\n",
       "      <td>...</td>\n",
       "      <td>...</td>\n",
       "      <td>...</td>\n",
       "      <td>...</td>\n",
       "      <td>...</td>\n",
       "      <td>...</td>\n",
       "      <td>...</td>\n",
       "      <td>...</td>\n",
       "      <td>...</td>\n",
       "      <td>...</td>\n",
       "    </tr>\n",
       "    <tr>\n",
       "      <th>26577</th>\n",
       "      <td>1252141718111439700</td>\n",
       "      <td>city scrape</td>\n",
       "      <td>Charming 2-Bedroom Retreat in Lomas de Bezares</td>\n",
       "      <td>Experience Mexico City in this delightful retr...</td>\n",
       "      <td>Welcome to Lomas de Bezares, a neighborhood kn...</td>\n",
       "      <td>67472234</td>\n",
       "      <td>HostPal</td>\n",
       "      <td>within an hour</td>\n",
       "      <td>100%</td>\n",
       "      <td>100%</td>\n",
       "      <td>...</td>\n",
       "      <td>NaN</td>\n",
       "      <td>NaN</td>\n",
       "      <td>NaN</td>\n",
       "      <td>NaN</td>\n",
       "      <td>t</td>\n",
       "      <td>37</td>\n",
       "      <td>14</td>\n",
       "      <td>23</td>\n",
       "      <td>0</td>\n",
       "      <td>NaN</td>\n",
       "    </tr>\n",
       "    <tr>\n",
       "      <th>26578</th>\n",
       "      <td>1252159821531694005</td>\n",
       "      <td>city scrape</td>\n",
       "      <td>Suite King | District Polanco</td>\n",
       "      <td>This spacious room features a plush king-size ...</td>\n",
       "      <td>NaN</td>\n",
       "      <td>596009321</td>\n",
       "      <td>Luis Angel</td>\n",
       "      <td>within an hour</td>\n",
       "      <td>100%</td>\n",
       "      <td>100%</td>\n",
       "      <td>...</td>\n",
       "      <td>NaN</td>\n",
       "      <td>NaN</td>\n",
       "      <td>NaN</td>\n",
       "      <td>NaN</td>\n",
       "      <td>t</td>\n",
       "      <td>16</td>\n",
       "      <td>8</td>\n",
       "      <td>8</td>\n",
       "      <td>0</td>\n",
       "      <td>NaN</td>\n",
       "    </tr>\n",
       "    <tr>\n",
       "      <th>26579</th>\n",
       "      <td>1252185591721328995</td>\n",
       "      <td>city scrape</td>\n",
       "      <td>Suite King | District Polanco</td>\n",
       "      <td>Discover the essence of luxury in our king-siz...</td>\n",
       "      <td>NaN</td>\n",
       "      <td>596009321</td>\n",
       "      <td>Luis Angel</td>\n",
       "      <td>within an hour</td>\n",
       "      <td>100%</td>\n",
       "      <td>100%</td>\n",
       "      <td>...</td>\n",
       "      <td>NaN</td>\n",
       "      <td>NaN</td>\n",
       "      <td>NaN</td>\n",
       "      <td>NaN</td>\n",
       "      <td>t</td>\n",
       "      <td>16</td>\n",
       "      <td>8</td>\n",
       "      <td>8</td>\n",
       "      <td>0</td>\n",
       "      <td>NaN</td>\n",
       "    </tr>\n",
       "    <tr>\n",
       "      <th>26580</th>\n",
       "      <td>1252218347521498445</td>\n",
       "      <td>city scrape</td>\n",
       "      <td>Suite Queen | District Polanco</td>\n",
       "      <td>Welcome to your refuge in the heart of Polanco...</td>\n",
       "      <td>NaN</td>\n",
       "      <td>596009321</td>\n",
       "      <td>Luis Angel</td>\n",
       "      <td>within an hour</td>\n",
       "      <td>100%</td>\n",
       "      <td>100%</td>\n",
       "      <td>...</td>\n",
       "      <td>NaN</td>\n",
       "      <td>NaN</td>\n",
       "      <td>NaN</td>\n",
       "      <td>NaN</td>\n",
       "      <td>t</td>\n",
       "      <td>16</td>\n",
       "      <td>8</td>\n",
       "      <td>8</td>\n",
       "      <td>0</td>\n",
       "      <td>NaN</td>\n",
       "    </tr>\n",
       "    <tr>\n",
       "      <th>26581</th>\n",
       "      <td>1252229157495978163</td>\n",
       "      <td>city scrape</td>\n",
       "      <td>Pretty, well centered, amenities</td>\n",
       "      <td>Known as New Polanco, the Granada colony has p...</td>\n",
       "      <td>NaN</td>\n",
       "      <td>6522855</td>\n",
       "      <td>Salvador</td>\n",
       "      <td>within an hour</td>\n",
       "      <td>100%</td>\n",
       "      <td>100%</td>\n",
       "      <td>...</td>\n",
       "      <td>NaN</td>\n",
       "      <td>NaN</td>\n",
       "      <td>NaN</td>\n",
       "      <td>NaN</td>\n",
       "      <td>t</td>\n",
       "      <td>4</td>\n",
       "      <td>4</td>\n",
       "      <td>0</td>\n",
       "      <td>0</td>\n",
       "      <td>NaN</td>\n",
       "    </tr>\n",
       "  </tbody>\n",
       "</table>\n",
       "<p>26582 rows × 50 columns</p>\n",
       "</div>"
      ],
      "text/plain": [
       "                        id           source  \\\n",
       "0                    35797      city scrape   \n",
       "1                    44616  previous scrape   \n",
       "2                    67703      city scrape   \n",
       "3                    70644      city scrape   \n",
       "4                   107078      city scrape   \n",
       "...                    ...              ...   \n",
       "26577  1252141718111439700      city scrape   \n",
       "26578  1252159821531694005      city scrape   \n",
       "26579  1252185591721328995      city scrape   \n",
       "26580  1252218347521498445      city scrape   \n",
       "26581  1252229157495978163      city scrape   \n",
       "\n",
       "                                                   name  \\\n",
       "0                                           Villa Dante   \n",
       "1                                          Condesa Haus   \n",
       "2                     2 bedroom apt. deco bldg, Condesa   \n",
       "3      Beautiful light Studio Coyoacan- full equipped !   \n",
       "4                                    NEW  DESIGNER LOFT   \n",
       "...                                                 ...   \n",
       "26577    Charming 2-Bedroom Retreat in Lomas de Bezares   \n",
       "26578                     Suite King | District Polanco   \n",
       "26579                     Suite King | District Polanco   \n",
       "26580                    Suite Queen | District Polanco   \n",
       "26581                  Pretty, well centered, amenities   \n",
       "\n",
       "                                             description  \\\n",
       "0      Dentro de Villa un estudio de arte con futon, ...   \n",
       "1      A new concept of hosting in mexico through a b...   \n",
       "2      Comfortably furnished, sunny, 2 bedroom apt., ...   \n",
       "3      COYOACAN designer studio quiet & safe! well eq...   \n",
       "4      Is the best ever place triple L <br />Location...   \n",
       "...                                                  ...   \n",
       "26577  Experience Mexico City in this delightful retr...   \n",
       "26578  This spacious room features a plush king-size ...   \n",
       "26579  Discover the essence of luxury in our king-siz...   \n",
       "26580  Welcome to your refuge in the heart of Polanco...   \n",
       "26581  Known as New Polanco, the Granada colony has p...   \n",
       "\n",
       "                                   neighborhood_overview    host_id  \\\n",
       "0      Santa Fe Mall, Interloma Park and the Lion Des...     153786   \n",
       "1                                                    NaN     196253   \n",
       "2                                                    NaN     334451   \n",
       "3      Coyoacan is a beautiful neighborhood famous fo...     212109   \n",
       "4      Is located in the best area of Mexico City, Po...     540705   \n",
       "...                                                  ...        ...   \n",
       "26577  Welcome to Lomas de Bezares, a neighborhood kn...   67472234   \n",
       "26578                                                NaN  596009321   \n",
       "26579                                                NaN  596009321   \n",
       "26580                                                NaN  596009321   \n",
       "26581                                                NaN    6522855   \n",
       "\n",
       "        host_name  host_response_time host_response_rate host_acceptance_rate  \\\n",
       "0            Dici  a few days or more                 0%                  NaN   \n",
       "1        Fernando      within an hour               100%                  93%   \n",
       "2        Nicholas      within an hour                71%                  57%   \n",
       "3          Trisha  within a few hours               100%                 100%   \n",
       "4          Andrea      within an hour               100%                 100%   \n",
       "...           ...                 ...                ...                  ...   \n",
       "26577     HostPal      within an hour               100%                 100%   \n",
       "26578  Luis Angel      within an hour               100%                 100%   \n",
       "26579  Luis Angel      within an hour               100%                 100%   \n",
       "26580  Luis Angel      within an hour               100%                 100%   \n",
       "26581    Salvador      within an hour               100%                 100%   \n",
       "\n",
       "       ... review_scores_checkin review_scores_communication  \\\n",
       "0      ...                   NaN                         NaN   \n",
       "1      ...                  4.87                        4.78   \n",
       "2      ...                  4.94                        4.92   \n",
       "3      ...                  4.96                        4.98   \n",
       "4      ...                  5.00                        4.73   \n",
       "...    ...                   ...                         ...   \n",
       "26577  ...                   NaN                         NaN   \n",
       "26578  ...                   NaN                         NaN   \n",
       "26579  ...                   NaN                         NaN   \n",
       "26580  ...                   NaN                         NaN   \n",
       "26581  ...                   NaN                         NaN   \n",
       "\n",
       "       review_scores_location  review_scores_value  instant_bookable  \\\n",
       "0                         NaN                  NaN                 f   \n",
       "1                        4.98                 4.48                 f   \n",
       "2                        4.98                 4.91                 f   \n",
       "3                        4.96                 4.92                 f   \n",
       "4                        4.91                 4.82                 f   \n",
       "...                       ...                  ...               ...   \n",
       "26577                     NaN                  NaN                 t   \n",
       "26578                     NaN                  NaN                 t   \n",
       "26579                     NaN                  NaN                 t   \n",
       "26580                     NaN                  NaN                 t   \n",
       "26581                     NaN                  NaN                 t   \n",
       "\n",
       "      calculated_host_listings_count  \\\n",
       "0                                  1   \n",
       "1                                  8   \n",
       "2                                  2   \n",
       "3                                  3   \n",
       "4                                  3   \n",
       "...                              ...   \n",
       "26577                             37   \n",
       "26578                             16   \n",
       "26579                             16   \n",
       "26580                             16   \n",
       "26581                              4   \n",
       "\n",
       "      calculated_host_listings_count_entire_homes  \\\n",
       "0                                               1   \n",
       "1                                               4   \n",
       "2                                               2   \n",
       "3                                               2   \n",
       "4                                               3   \n",
       "...                                           ...   \n",
       "26577                                          14   \n",
       "26578                                           8   \n",
       "26579                                           8   \n",
       "26580                                           8   \n",
       "26581                                           4   \n",
       "\n",
       "       calculated_host_listings_count_private_rooms  \\\n",
       "0                                                 0   \n",
       "1                                                 1   \n",
       "2                                                 0   \n",
       "3                                                 1   \n",
       "4                                                 0   \n",
       "...                                             ...   \n",
       "26577                                            23   \n",
       "26578                                             8   \n",
       "26579                                             8   \n",
       "26580                                             8   \n",
       "26581                                             0   \n",
       "\n",
       "       calculated_host_listings_count_shared_rooms  reviews_per_month  \n",
       "0                                                0                NaN  \n",
       "1                                                0               0.41  \n",
       "2                                                0               0.31  \n",
       "3                                                0               0.83  \n",
       "4                                                0               0.11  \n",
       "...                                            ...                ...  \n",
       "26577                                            0                NaN  \n",
       "26578                                            0                NaN  \n",
       "26579                                            0                NaN  \n",
       "26580                                            0                NaN  \n",
       "26581                                            0                NaN  \n",
       "\n",
       "[26582 rows x 50 columns]"
      ]
     },
     "execution_count": 5,
     "metadata": {},
     "output_type": "execute_result"
    }
   ],
   "source": [
    "mexico=mexicoO.copy()\n",
    "mexico"
   ]
  },
  {
   "cell_type": "code",
   "execution_count": 6,
   "metadata": {},
   "outputs": [
    {
     "data": {
      "text/plain": [
       "description                       933\n",
       "neighborhood_overview           10895\n",
       "host_response_time               3622\n",
       "host_response_rate               3622\n",
       "host_acceptance_rate             2869\n",
       "host_is_superhost                1509\n",
       "neighbourhood_group_cleansed    26582\n",
       "bathrooms                        2915\n",
       "bedrooms                          866\n",
       "beds                             2953\n",
       "price                            2927\n",
       "has_availability                 1008\n",
       "first_review                     3656\n",
       "last_review                      3656\n",
       "review_scores_rating             3656\n",
       "review_scores_accuracy           3657\n",
       "review_scores_cleanliness        3657\n",
       "review_scores_checkin            3657\n",
       "review_scores_communication      3657\n",
       "review_scores_location           3657\n",
       "review_scores_value              3657\n",
       "reviews_per_month                3656\n",
       "dtype: int64"
      ]
     },
     "execution_count": 6,
     "metadata": {},
     "output_type": "execute_result"
    }
   ],
   "source": [
    "nulos = mexico.isnull().sum()\n",
    "columnas_con_nulos = nulos[nulos > 0]\n",
    "columnas_con_nulos"
   ]
  },
  {
   "cell_type": "code",
   "execution_count": 7,
   "metadata": {},
   "outputs": [
    {
     "data": {
      "text/plain": [
       "np.int64(97267)"
      ]
     },
     "execution_count": 7,
     "metadata": {},
     "output_type": "execute_result"
    }
   ],
   "source": [
    "nulos = mexico.isnull().sum().sum()\n",
    "nulos"
   ]
  },
  {
   "cell_type": "markdown",
   "metadata": {},
   "source": [
    "**description**"
   ]
  },
  {
   "cell_type": "code",
   "execution_count": 8,
   "metadata": {},
   "outputs": [],
   "source": [
    "mexico[\"description\"]=mexico[\"description\"].fillna(\"Not available.\")\n",
    "#Hicimos uso de este método de sustitución por cadena ya que no se puede inventar una descripción por cada uno de los sitios que se conocen \n",
    "#y porque no podemos asignarle una descripción de otro lugar a ese. Con eso en mente, decidimos mantener un mensaje que sea claro y nos diga cuales no tienen\n",
    "#ni siquiera una descripción en su anuncio."
   ]
  },
  {
   "cell_type": "code",
   "execution_count": 9,
   "metadata": {},
   "outputs": [
    {
     "data": {
      "text/plain": [
       "id                                                  0\n",
       "source                                              0\n",
       "name                                                0\n",
       "description                                         0\n",
       "neighborhood_overview                           10895\n",
       "host_id                                             0\n",
       "host_name                                           0\n",
       "host_response_time                               3622\n",
       "host_response_rate                               3622\n",
       "host_acceptance_rate                             2869\n",
       "host_is_superhost                                1509\n",
       "neighbourhood_cleansed                              0\n",
       "neighbourhood_group_cleansed                    26582\n",
       "latitude                                            0\n",
       "longitude                                           0\n",
       "property_type                                       0\n",
       "room_type                                           0\n",
       "accommodates                                        0\n",
       "bathrooms                                        2915\n",
       "bedrooms                                          866\n",
       "beds                                             2953\n",
       "amenities                                           0\n",
       "price                                            2927\n",
       "minimum_nights                                      0\n",
       "maximum_nights                                      0\n",
       "minimum_nights_avg_ntm                              0\n",
       "maximum_nights_avg_ntm                              0\n",
       "has_availability                                 1008\n",
       "availability_30                                     0\n",
       "availability_60                                     0\n",
       "availability_90                                     0\n",
       "availability_365                                    0\n",
       "number_of_reviews                                   0\n",
       "number_of_reviews_ltm                               0\n",
       "number_of_reviews_l30d                              0\n",
       "first_review                                     3656\n",
       "last_review                                      3656\n",
       "review_scores_rating                             3656\n",
       "review_scores_accuracy                           3657\n",
       "review_scores_cleanliness                        3657\n",
       "review_scores_checkin                            3657\n",
       "review_scores_communication                      3657\n",
       "review_scores_location                           3657\n",
       "review_scores_value                              3657\n",
       "instant_bookable                                    0\n",
       "calculated_host_listings_count                      0\n",
       "calculated_host_listings_count_entire_homes         0\n",
       "calculated_host_listings_count_private_rooms        0\n",
       "calculated_host_listings_count_shared_rooms         0\n",
       "reviews_per_month                                3656\n",
       "dtype: int64"
      ]
     },
     "execution_count": 9,
     "metadata": {},
     "output_type": "execute_result"
    }
   ],
   "source": [
    "nulos = mexico.isnull().sum()\n",
    "nulos"
   ]
  },
  {
   "cell_type": "markdown",
   "metadata": {},
   "source": [
    "**neighborhood_overview**"
   ]
  },
  {
   "cell_type": "code",
   "execution_count": 10,
   "metadata": {},
   "outputs": [],
   "source": [
    "mexico[\"neighborhood_overview\"]=mexico[\"neighborhood_overview\"].fillna(\"Not available\")\n",
    "#De la misma manera, al ser una descripción general del vecindario en que se encuentra, no podemos sobreponer datos ni generar uno para cada celda,\n",
    "#por lo tanto optamos de misma manera por mostrar con una cadena aquellos que no tengan este elemento."
   ]
  },
  {
   "cell_type": "code",
   "execution_count": 11,
   "metadata": {},
   "outputs": [
    {
     "data": {
      "text/plain": [
       "id                                                  0\n",
       "source                                              0\n",
       "name                                                0\n",
       "description                                         0\n",
       "neighborhood_overview                               0\n",
       "host_id                                             0\n",
       "host_name                                           0\n",
       "host_response_time                               3622\n",
       "host_response_rate                               3622\n",
       "host_acceptance_rate                             2869\n",
       "host_is_superhost                                1509\n",
       "neighbourhood_cleansed                              0\n",
       "neighbourhood_group_cleansed                    26582\n",
       "latitude                                            0\n",
       "longitude                                           0\n",
       "property_type                                       0\n",
       "room_type                                           0\n",
       "accommodates                                        0\n",
       "bathrooms                                        2915\n",
       "bedrooms                                          866\n",
       "beds                                             2953\n",
       "amenities                                           0\n",
       "price                                            2927\n",
       "minimum_nights                                      0\n",
       "maximum_nights                                      0\n",
       "minimum_nights_avg_ntm                              0\n",
       "maximum_nights_avg_ntm                              0\n",
       "has_availability                                 1008\n",
       "availability_30                                     0\n",
       "availability_60                                     0\n",
       "availability_90                                     0\n",
       "availability_365                                    0\n",
       "number_of_reviews                                   0\n",
       "number_of_reviews_ltm                               0\n",
       "number_of_reviews_l30d                              0\n",
       "first_review                                     3656\n",
       "last_review                                      3656\n",
       "review_scores_rating                             3656\n",
       "review_scores_accuracy                           3657\n",
       "review_scores_cleanliness                        3657\n",
       "review_scores_checkin                            3657\n",
       "review_scores_communication                      3657\n",
       "review_scores_location                           3657\n",
       "review_scores_value                              3657\n",
       "instant_bookable                                    0\n",
       "calculated_host_listings_count                      0\n",
       "calculated_host_listings_count_entire_homes         0\n",
       "calculated_host_listings_count_private_rooms        0\n",
       "calculated_host_listings_count_shared_rooms         0\n",
       "reviews_per_month                                3656\n",
       "dtype: int64"
      ]
     },
     "execution_count": 11,
     "metadata": {},
     "output_type": "execute_result"
    }
   ],
   "source": [
    "nulos = mexico.isnull().sum()\n",
    "nulos"
   ]
  },
  {
   "cell_type": "markdown",
   "metadata": {},
   "source": [
    "**host_response_time**"
   ]
  },
  {
   "cell_type": "code",
   "execution_count": 12,
   "metadata": {},
   "outputs": [],
   "source": [
    "mexico[\"host_response_time\"]=mexico[\"host_response_time\"].fillna(\"Unknown\")\n",
    "#Aquí optamos por usar la frase \"Unknown\" para determinar si existe alguna relación entre los lugares reservados con los tiempos de respuesta establecidos."
   ]
  },
  {
   "cell_type": "code",
   "execution_count": 13,
   "metadata": {},
   "outputs": [
    {
     "data": {
      "text/plain": [
       "id                                                  0\n",
       "source                                              0\n",
       "name                                                0\n",
       "description                                         0\n",
       "neighborhood_overview                               0\n",
       "host_id                                             0\n",
       "host_name                                           0\n",
       "host_response_time                                  0\n",
       "host_response_rate                               3622\n",
       "host_acceptance_rate                             2869\n",
       "host_is_superhost                                1509\n",
       "neighbourhood_cleansed                              0\n",
       "neighbourhood_group_cleansed                    26582\n",
       "latitude                                            0\n",
       "longitude                                           0\n",
       "property_type                                       0\n",
       "room_type                                           0\n",
       "accommodates                                        0\n",
       "bathrooms                                        2915\n",
       "bedrooms                                          866\n",
       "beds                                             2953\n",
       "amenities                                           0\n",
       "price                                            2927\n",
       "minimum_nights                                      0\n",
       "maximum_nights                                      0\n",
       "minimum_nights_avg_ntm                              0\n",
       "maximum_nights_avg_ntm                              0\n",
       "has_availability                                 1008\n",
       "availability_30                                     0\n",
       "availability_60                                     0\n",
       "availability_90                                     0\n",
       "availability_365                                    0\n",
       "number_of_reviews                                   0\n",
       "number_of_reviews_ltm                               0\n",
       "number_of_reviews_l30d                              0\n",
       "first_review                                     3656\n",
       "last_review                                      3656\n",
       "review_scores_rating                             3656\n",
       "review_scores_accuracy                           3657\n",
       "review_scores_cleanliness                        3657\n",
       "review_scores_checkin                            3657\n",
       "review_scores_communication                      3657\n",
       "review_scores_location                           3657\n",
       "review_scores_value                              3657\n",
       "instant_bookable                                    0\n",
       "calculated_host_listings_count                      0\n",
       "calculated_host_listings_count_entire_homes         0\n",
       "calculated_host_listings_count_private_rooms        0\n",
       "calculated_host_listings_count_shared_rooms         0\n",
       "reviews_per_month                                3656\n",
       "dtype: int64"
      ]
     },
     "execution_count": 13,
     "metadata": {},
     "output_type": "execute_result"
    }
   ],
   "source": [
    "nulos = mexico.isnull().sum()\n",
    "nulos"
   ]
  },
  {
   "cell_type": "markdown",
   "metadata": {},
   "source": [
    "**host_response_rate**  "
   ]
  },
  {
   "cell_type": "code",
   "execution_count": 15,
   "metadata": {},
   "outputs": [],
   "source": [
    "mexico[\"host_response_rate\"]=mexico[\"host_response_rate\"].fillna(\"100%\")\n",
    "#En este caso le pusimos un valor de 100% ya que la mayoría de los datos en la tabla se acercan a estos valores, y por otro lado porque este valor es una\n",
    "#constante que no pretende alterar los datos en gran escala."
   ]
  },
  {
   "cell_type": "code",
   "execution_count": 16,
   "metadata": {},
   "outputs": [
    {
     "data": {
      "text/plain": [
       "id                                                  0\n",
       "source                                              0\n",
       "name                                                0\n",
       "description                                         0\n",
       "neighborhood_overview                               0\n",
       "host_id                                             0\n",
       "host_name                                           0\n",
       "host_response_time                                  0\n",
       "host_response_rate                                  0\n",
       "host_acceptance_rate                             2869\n",
       "host_is_superhost                                1509\n",
       "neighbourhood_cleansed                              0\n",
       "neighbourhood_group_cleansed                    26582\n",
       "latitude                                            0\n",
       "longitude                                           0\n",
       "property_type                                       0\n",
       "room_type                                           0\n",
       "accommodates                                        0\n",
       "bathrooms                                        2915\n",
       "bedrooms                                          866\n",
       "beds                                             2953\n",
       "amenities                                           0\n",
       "price                                            2927\n",
       "minimum_nights                                      0\n",
       "maximum_nights                                      0\n",
       "minimum_nights_avg_ntm                              0\n",
       "maximum_nights_avg_ntm                              0\n",
       "has_availability                                 1008\n",
       "availability_30                                     0\n",
       "availability_60                                     0\n",
       "availability_90                                     0\n",
       "availability_365                                    0\n",
       "number_of_reviews                                   0\n",
       "number_of_reviews_ltm                               0\n",
       "number_of_reviews_l30d                              0\n",
       "first_review                                     3656\n",
       "last_review                                      3656\n",
       "review_scores_rating                             3656\n",
       "review_scores_accuracy                           3657\n",
       "review_scores_cleanliness                        3657\n",
       "review_scores_checkin                            3657\n",
       "review_scores_communication                      3657\n",
       "review_scores_location                           3657\n",
       "review_scores_value                              3657\n",
       "instant_bookable                                    0\n",
       "calculated_host_listings_count                      0\n",
       "calculated_host_listings_count_entire_homes         0\n",
       "calculated_host_listings_count_private_rooms        0\n",
       "calculated_host_listings_count_shared_rooms         0\n",
       "reviews_per_month                                3656\n",
       "dtype: int64"
      ]
     },
     "execution_count": 16,
     "metadata": {},
     "output_type": "execute_result"
    }
   ],
   "source": [
    "nulos = mexico.isnull().sum()\n",
    "nulos"
   ]
  },
  {
   "cell_type": "markdown",
   "metadata": {},
   "source": [
    "**host_acceptance_rate**"
   ]
  },
  {
   "cell_type": "code",
   "execution_count": 17,
   "metadata": {},
   "outputs": [],
   "source": [
    "mexico[\"host_acceptance_rate\"]=mexico[\"host_acceptance_rate\"].fillna(\"100%\")\n",
    "#Lo mismo que en el punto anterior."
   ]
  },
  {
   "cell_type": "code",
   "execution_count": 18,
   "metadata": {},
   "outputs": [
    {
     "data": {
      "text/plain": [
       "id                                                  0\n",
       "source                                              0\n",
       "name                                                0\n",
       "description                                         0\n",
       "neighborhood_overview                               0\n",
       "host_id                                             0\n",
       "host_name                                           0\n",
       "host_response_time                                  0\n",
       "host_response_rate                                  0\n",
       "host_acceptance_rate                                0\n",
       "host_is_superhost                                1509\n",
       "neighbourhood_cleansed                              0\n",
       "neighbourhood_group_cleansed                    26582\n",
       "latitude                                            0\n",
       "longitude                                           0\n",
       "property_type                                       0\n",
       "room_type                                           0\n",
       "accommodates                                        0\n",
       "bathrooms                                        2915\n",
       "bedrooms                                          866\n",
       "beds                                             2953\n",
       "amenities                                           0\n",
       "price                                            2927\n",
       "minimum_nights                                      0\n",
       "maximum_nights                                      0\n",
       "minimum_nights_avg_ntm                              0\n",
       "maximum_nights_avg_ntm                              0\n",
       "has_availability                                 1008\n",
       "availability_30                                     0\n",
       "availability_60                                     0\n",
       "availability_90                                     0\n",
       "availability_365                                    0\n",
       "number_of_reviews                                   0\n",
       "number_of_reviews_ltm                               0\n",
       "number_of_reviews_l30d                              0\n",
       "first_review                                     3656\n",
       "last_review                                      3656\n",
       "review_scores_rating                             3656\n",
       "review_scores_accuracy                           3657\n",
       "review_scores_cleanliness                        3657\n",
       "review_scores_checkin                            3657\n",
       "review_scores_communication                      3657\n",
       "review_scores_location                           3657\n",
       "review_scores_value                              3657\n",
       "instant_bookable                                    0\n",
       "calculated_host_listings_count                      0\n",
       "calculated_host_listings_count_entire_homes         0\n",
       "calculated_host_listings_count_private_rooms        0\n",
       "calculated_host_listings_count_shared_rooms         0\n",
       "reviews_per_month                                3656\n",
       "dtype: int64"
      ]
     },
     "execution_count": 18,
     "metadata": {},
     "output_type": "execute_result"
    }
   ],
   "source": [
    "nulos = mexico.isnull().sum()\n",
    "nulos"
   ]
  },
  {
   "cell_type": "markdown",
   "metadata": {},
   "source": [
    "**host_is_superhost**"
   ]
  },
  {
   "cell_type": "code",
   "execution_count": 24,
   "metadata": {},
   "outputs": [
    {
     "name": "stderr",
     "output_type": "stream",
     "text": [
      "C:\\Users\\lalob\\AppData\\Local\\Temp\\ipykernel_61948\\3556496869.py:1: FutureWarning: Series.fillna with 'method' is deprecated and will raise in a future version. Use obj.ffill() or obj.bfill() instead.\n",
      "  mexico[\"host_is_superhost\"]=mexico[\"host_is_superhost\"].fillna(method=\"bfill\")\n"
     ]
    }
   ],
   "source": [
    "mexico[\"host_is_superhost\"]=mexico[\"host_is_superhost\"].fillna(method=\"bfill\")\n",
    "#En este caso, como no podemos comprobar que el anfitrión es un superhost, es mejor considerar que ninguno de los nulos lo es ya que no hay \n",
    "#una noción clara de quienes de ellos si lo pueden ser, pero como debemos usar todos los métodos de sustitución optaremos por usar el backward fill aquí,\n",
    "#ya que al ser mayoría de valores falsos, tendera a tener más valores falsos incluso con ese método \n",
    "#(Comprobamos y quedan el mismo número de falsos que si fuera una cadena f)."
   ]
  },
  {
   "cell_type": "code",
   "execution_count": 25,
   "metadata": {},
   "outputs": [
    {
     "data": {
      "text/plain": [
       "id                                                  0\n",
       "source                                              0\n",
       "name                                                0\n",
       "description                                         0\n",
       "neighborhood_overview                               0\n",
       "host_id                                             0\n",
       "host_name                                           0\n",
       "host_response_time                                  0\n",
       "host_response_rate                                  0\n",
       "host_acceptance_rate                                0\n",
       "host_is_superhost                                   0\n",
       "neighbourhood_cleansed                              0\n",
       "neighbourhood_group_cleansed                    26582\n",
       "latitude                                            0\n",
       "longitude                                           0\n",
       "property_type                                       0\n",
       "room_type                                           0\n",
       "accommodates                                        0\n",
       "bathrooms                                        2915\n",
       "bedrooms                                          866\n",
       "beds                                             2953\n",
       "amenities                                           0\n",
       "price                                            2927\n",
       "minimum_nights                                      0\n",
       "maximum_nights                                      0\n",
       "minimum_nights_avg_ntm                              0\n",
       "maximum_nights_avg_ntm                              0\n",
       "has_availability                                 1008\n",
       "availability_30                                     0\n",
       "availability_60                                     0\n",
       "availability_90                                     0\n",
       "availability_365                                    0\n",
       "number_of_reviews                                   0\n",
       "number_of_reviews_ltm                               0\n",
       "number_of_reviews_l30d                              0\n",
       "first_review                                     3656\n",
       "last_review                                      3656\n",
       "review_scores_rating                             3656\n",
       "review_scores_accuracy                           3657\n",
       "review_scores_cleanliness                        3657\n",
       "review_scores_checkin                            3657\n",
       "review_scores_communication                      3657\n",
       "review_scores_location                           3657\n",
       "review_scores_value                              3657\n",
       "instant_bookable                                    0\n",
       "calculated_host_listings_count                      0\n",
       "calculated_host_listings_count_entire_homes         0\n",
       "calculated_host_listings_count_private_rooms        0\n",
       "calculated_host_listings_count_shared_rooms         0\n",
       "reviews_per_month                                3656\n",
       "dtype: int64"
      ]
     },
     "execution_count": 25,
     "metadata": {},
     "output_type": "execute_result"
    }
   ],
   "source": [
    "nulos = mexico.isnull().sum()\n",
    "nulos"
   ]
  },
  {
   "cell_type": "markdown",
   "metadata": {},
   "source": [
    "**neighbourhood_group_cleansed**"
   ]
  },
  {
   "cell_type": "code",
   "execution_count": 26,
   "metadata": {},
   "outputs": [],
   "source": [
    "mexico[\"neighbourhood_group_cleansed\"]=mexico[\"neighbourhood_group_cleansed\"].fillna(\"No especificado\")\n",
    "#En este elemento, al tener todas las especificaciones en neighbourhood_cleansed, los valores del grupo no son relevantes así que pondremos que es \n",
    "#\"no especificado\" para evitar complicaciones con otros datos. "
   ]
  },
  {
   "cell_type": "code",
   "execution_count": 27,
   "metadata": {},
   "outputs": [
    {
     "data": {
      "text/plain": [
       "id                                                 0\n",
       "source                                             0\n",
       "name                                               0\n",
       "description                                        0\n",
       "neighborhood_overview                              0\n",
       "host_id                                            0\n",
       "host_name                                          0\n",
       "host_response_time                                 0\n",
       "host_response_rate                                 0\n",
       "host_acceptance_rate                               0\n",
       "host_is_superhost                                  0\n",
       "neighbourhood_cleansed                             0\n",
       "neighbourhood_group_cleansed                       0\n",
       "latitude                                           0\n",
       "longitude                                          0\n",
       "property_type                                      0\n",
       "room_type                                          0\n",
       "accommodates                                       0\n",
       "bathrooms                                       2915\n",
       "bedrooms                                         866\n",
       "beds                                            2953\n",
       "amenities                                          0\n",
       "price                                           2927\n",
       "minimum_nights                                     0\n",
       "maximum_nights                                     0\n",
       "minimum_nights_avg_ntm                             0\n",
       "maximum_nights_avg_ntm                             0\n",
       "has_availability                                1008\n",
       "availability_30                                    0\n",
       "availability_60                                    0\n",
       "availability_90                                    0\n",
       "availability_365                                   0\n",
       "number_of_reviews                                  0\n",
       "number_of_reviews_ltm                              0\n",
       "number_of_reviews_l30d                             0\n",
       "first_review                                    3656\n",
       "last_review                                     3656\n",
       "review_scores_rating                            3656\n",
       "review_scores_accuracy                          3657\n",
       "review_scores_cleanliness                       3657\n",
       "review_scores_checkin                           3657\n",
       "review_scores_communication                     3657\n",
       "review_scores_location                          3657\n",
       "review_scores_value                             3657\n",
       "instant_bookable                                   0\n",
       "calculated_host_listings_count                     0\n",
       "calculated_host_listings_count_entire_homes        0\n",
       "calculated_host_listings_count_private_rooms       0\n",
       "calculated_host_listings_count_shared_rooms        0\n",
       "reviews_per_month                               3656\n",
       "dtype: int64"
      ]
     },
     "execution_count": 27,
     "metadata": {},
     "output_type": "execute_result"
    }
   ],
   "source": [
    "nulos = mexico.isnull().sum()\n",
    "nulos"
   ]
  },
  {
   "cell_type": "markdown",
   "metadata": {},
   "source": [
    "**bathrooms**"
   ]
  },
  {
   "cell_type": "code",
   "execution_count": 28,
   "metadata": {},
   "outputs": [],
   "source": [
    "mexico[\"bathrooms\"]=mexico[\"bathrooms\"].fillna(round(mexico[\"bathrooms\"].mean()))\n",
    "#Hicimos uso del promedio de todos los baños para mantenerlos en ese rango y no distorcionar la proporción de los baños totales en los distintos lugares."
   ]
  },
  {
   "cell_type": "code",
   "execution_count": 29,
   "metadata": {},
   "outputs": [
    {
     "data": {
      "text/plain": [
       "id                                                 0\n",
       "source                                             0\n",
       "name                                               0\n",
       "description                                        0\n",
       "neighborhood_overview                              0\n",
       "host_id                                            0\n",
       "host_name                                          0\n",
       "host_response_time                                 0\n",
       "host_response_rate                                 0\n",
       "host_acceptance_rate                               0\n",
       "host_is_superhost                                  0\n",
       "neighbourhood_cleansed                             0\n",
       "neighbourhood_group_cleansed                       0\n",
       "latitude                                           0\n",
       "longitude                                          0\n",
       "property_type                                      0\n",
       "room_type                                          0\n",
       "accommodates                                       0\n",
       "bathrooms                                          0\n",
       "bedrooms                                         866\n",
       "beds                                            2953\n",
       "amenities                                          0\n",
       "price                                           2927\n",
       "minimum_nights                                     0\n",
       "maximum_nights                                     0\n",
       "minimum_nights_avg_ntm                             0\n",
       "maximum_nights_avg_ntm                             0\n",
       "has_availability                                1008\n",
       "availability_30                                    0\n",
       "availability_60                                    0\n",
       "availability_90                                    0\n",
       "availability_365                                   0\n",
       "number_of_reviews                                  0\n",
       "number_of_reviews_ltm                              0\n",
       "number_of_reviews_l30d                             0\n",
       "first_review                                    3656\n",
       "last_review                                     3656\n",
       "review_scores_rating                            3656\n",
       "review_scores_accuracy                          3657\n",
       "review_scores_cleanliness                       3657\n",
       "review_scores_checkin                           3657\n",
       "review_scores_communication                     3657\n",
       "review_scores_location                          3657\n",
       "review_scores_value                             3657\n",
       "instant_bookable                                   0\n",
       "calculated_host_listings_count                     0\n",
       "calculated_host_listings_count_entire_homes        0\n",
       "calculated_host_listings_count_private_rooms       0\n",
       "calculated_host_listings_count_shared_rooms        0\n",
       "reviews_per_month                               3656\n",
       "dtype: int64"
      ]
     },
     "execution_count": 29,
     "metadata": {},
     "output_type": "execute_result"
    }
   ],
   "source": [
    "nulos = mexico.isnull().sum()\n",
    "nulos"
   ]
  },
  {
   "cell_type": "markdown",
   "metadata": {},
   "source": [
    "**bedrooms**"
   ]
  },
  {
   "cell_type": "code",
   "execution_count": 30,
   "metadata": {},
   "outputs": [],
   "source": [
    "mexico[\"bedrooms\"]=mexico[\"bedrooms\"].fillna(round(mexico[\"bedrooms\"].median()))\n",
    "#Hicimos uso de mediana ya que en las instrucciones era necesario ocupar cada método y consideramos que usarla en este ejemplo es buena opción."
   ]
  },
  {
   "cell_type": "code",
   "execution_count": 31,
   "metadata": {},
   "outputs": [
    {
     "data": {
      "text/plain": [
       "id                                                 0\n",
       "source                                             0\n",
       "name                                               0\n",
       "description                                        0\n",
       "neighborhood_overview                              0\n",
       "host_id                                            0\n",
       "host_name                                          0\n",
       "host_response_time                                 0\n",
       "host_response_rate                                 0\n",
       "host_acceptance_rate                               0\n",
       "host_is_superhost                                  0\n",
       "neighbourhood_cleansed                             0\n",
       "neighbourhood_group_cleansed                       0\n",
       "latitude                                           0\n",
       "longitude                                          0\n",
       "property_type                                      0\n",
       "room_type                                          0\n",
       "accommodates                                       0\n",
       "bathrooms                                          0\n",
       "bedrooms                                           0\n",
       "beds                                            2953\n",
       "amenities                                          0\n",
       "price                                           2927\n",
       "minimum_nights                                     0\n",
       "maximum_nights                                     0\n",
       "minimum_nights_avg_ntm                             0\n",
       "maximum_nights_avg_ntm                             0\n",
       "has_availability                                1008\n",
       "availability_30                                    0\n",
       "availability_60                                    0\n",
       "availability_90                                    0\n",
       "availability_365                                   0\n",
       "number_of_reviews                                  0\n",
       "number_of_reviews_ltm                              0\n",
       "number_of_reviews_l30d                             0\n",
       "first_review                                    3656\n",
       "last_review                                     3656\n",
       "review_scores_rating                            3656\n",
       "review_scores_accuracy                          3657\n",
       "review_scores_cleanliness                       3657\n",
       "review_scores_checkin                           3657\n",
       "review_scores_communication                     3657\n",
       "review_scores_location                          3657\n",
       "review_scores_value                             3657\n",
       "instant_bookable                                   0\n",
       "calculated_host_listings_count                     0\n",
       "calculated_host_listings_count_entire_homes        0\n",
       "calculated_host_listings_count_private_rooms       0\n",
       "calculated_host_listings_count_shared_rooms        0\n",
       "reviews_per_month                               3656\n",
       "dtype: int64"
      ]
     },
     "execution_count": 31,
     "metadata": {},
     "output_type": "execute_result"
    }
   ],
   "source": [
    "nulos = mexico.isnull().sum()\n",
    "nulos"
   ]
  },
  {
   "cell_type": "markdown",
   "metadata": {},
   "source": [
    "**beds**"
   ]
  },
  {
   "cell_type": "code",
   "execution_count": 35,
   "metadata": {},
   "outputs": [],
   "source": [
    "mexico[\"beds\"]=mexico[\"beds\"].fillna(2)\n",
    "#Nos gusta más el promedio, así que lo sacamos (es 2) pero como tenía que poner distintos métodos de sustitución opte por usar de una vez un valor concreto."
   ]
  },
  {
   "cell_type": "code",
   "execution_count": 36,
   "metadata": {},
   "outputs": [
    {
     "data": {
      "text/plain": [
       "id                                                 0\n",
       "source                                             0\n",
       "name                                               0\n",
       "description                                        0\n",
       "neighborhood_overview                              0\n",
       "host_id                                            0\n",
       "host_name                                          0\n",
       "host_response_time                                 0\n",
       "host_response_rate                                 0\n",
       "host_acceptance_rate                               0\n",
       "host_is_superhost                                  0\n",
       "neighbourhood_cleansed                             0\n",
       "neighbourhood_group_cleansed                       0\n",
       "latitude                                           0\n",
       "longitude                                          0\n",
       "property_type                                      0\n",
       "room_type                                          0\n",
       "accommodates                                       0\n",
       "bathrooms                                          0\n",
       "bedrooms                                           0\n",
       "beds                                               0\n",
       "amenities                                          0\n",
       "price                                           2927\n",
       "minimum_nights                                     0\n",
       "maximum_nights                                     0\n",
       "minimum_nights_avg_ntm                             0\n",
       "maximum_nights_avg_ntm                             0\n",
       "has_availability                                1008\n",
       "availability_30                                    0\n",
       "availability_60                                    0\n",
       "availability_90                                    0\n",
       "availability_365                                   0\n",
       "number_of_reviews                                  0\n",
       "number_of_reviews_ltm                              0\n",
       "number_of_reviews_l30d                             0\n",
       "first_review                                    3656\n",
       "last_review                                     3656\n",
       "review_scores_rating                            3656\n",
       "review_scores_accuracy                          3657\n",
       "review_scores_cleanliness                       3657\n",
       "review_scores_checkin                           3657\n",
       "review_scores_communication                     3657\n",
       "review_scores_location                          3657\n",
       "review_scores_value                             3657\n",
       "instant_bookable                                   0\n",
       "calculated_host_listings_count                     0\n",
       "calculated_host_listings_count_entire_homes        0\n",
       "calculated_host_listings_count_private_rooms       0\n",
       "calculated_host_listings_count_shared_rooms        0\n",
       "reviews_per_month                               3656\n",
       "dtype: int64"
      ]
     },
     "execution_count": 36,
     "metadata": {},
     "output_type": "execute_result"
    }
   ],
   "source": [
    "nulos = mexico.isnull().sum()\n",
    "nulos"
   ]
  },
  {
   "cell_type": "markdown",
   "metadata": {},
   "source": [
    "**price**"
   ]
  },
  {
   "cell_type": "code",
   "execution_count": null,
   "metadata": {},
   "outputs": [],
   "source": [
    "mexico[\"price\"] = mexico[\"price\"].fillna(0)\n",
    "#Ya que no tiene un precio predefinido, no podemos determinar el de cada uno de ellos y por ello es mejor evitar el uso de valores que desconocemos y que\n",
    "#pueden crear variaciones entre los diferentes valores ya existentes de precio. Aparte, con ello podemos diferenciarlos de aquellos que si lo poseen y \n",
    "#poder identificar una posible problematica."
   ]
  },
  {
   "cell_type": "code",
   "execution_count": 52,
   "metadata": {},
   "outputs": [
    {
     "data": {
      "text/plain": [
       "id                                                 0\n",
       "source                                             0\n",
       "name                                               0\n",
       "description                                        0\n",
       "neighborhood_overview                              0\n",
       "host_id                                            0\n",
       "host_name                                          0\n",
       "host_response_time                                 0\n",
       "host_response_rate                                 0\n",
       "host_acceptance_rate                               0\n",
       "host_is_superhost                                  0\n",
       "neighbourhood_cleansed                             0\n",
       "neighbourhood_group_cleansed                       0\n",
       "latitude                                           0\n",
       "longitude                                          0\n",
       "property_type                                      0\n",
       "room_type                                          0\n",
       "accommodates                                       0\n",
       "bathrooms                                          0\n",
       "bedrooms                                           0\n",
       "beds                                               0\n",
       "amenities                                          0\n",
       "price                                              0\n",
       "minimum_nights                                     0\n",
       "maximum_nights                                     0\n",
       "minimum_nights_avg_ntm                             0\n",
       "maximum_nights_avg_ntm                             0\n",
       "has_availability                                1008\n",
       "availability_30                                    0\n",
       "availability_60                                    0\n",
       "availability_90                                    0\n",
       "availability_365                                   0\n",
       "number_of_reviews                                  0\n",
       "number_of_reviews_ltm                              0\n",
       "number_of_reviews_l30d                             0\n",
       "first_review                                    3656\n",
       "last_review                                     3656\n",
       "review_scores_rating                            3656\n",
       "review_scores_accuracy                          3657\n",
       "review_scores_cleanliness                       3657\n",
       "review_scores_checkin                           3657\n",
       "review_scores_communication                     3657\n",
       "review_scores_location                          3657\n",
       "review_scores_value                             3657\n",
       "instant_bookable                                   0\n",
       "calculated_host_listings_count                     0\n",
       "calculated_host_listings_count_entire_homes        0\n",
       "calculated_host_listings_count_private_rooms       0\n",
       "calculated_host_listings_count_shared_rooms        0\n",
       "reviews_per_month                               3656\n",
       "dtype: int64"
      ]
     },
     "execution_count": 52,
     "metadata": {},
     "output_type": "execute_result"
    }
   ],
   "source": [
    "nulos = mexico.isnull().sum()\n",
    "nulos"
   ]
  },
  {
   "cell_type": "code",
   "execution_count": 53,
   "metadata": {},
   "outputs": [
    {
     "data": {
      "text/plain": [
       "has_availability               1008\n",
       "first_review                   3656\n",
       "last_review                    3656\n",
       "review_scores_rating           3656\n",
       "review_scores_accuracy         3657\n",
       "review_scores_cleanliness      3657\n",
       "review_scores_checkin          3657\n",
       "review_scores_communication    3657\n",
       "review_scores_location         3657\n",
       "review_scores_value            3657\n",
       "reviews_per_month              3656\n",
       "dtype: int64"
      ]
     },
     "execution_count": 53,
     "metadata": {},
     "output_type": "execute_result"
    }
   ],
   "source": [
    "nulos = mexico.isnull().sum()\n",
    "columnas_con_nulos= nulos[nulos>0]\n",
    "columnas_con_nulos"
   ]
  },
  {
   "cell_type": "markdown",
   "metadata": {},
   "source": [
    "**has_availability**"
   ]
  },
  {
   "cell_type": "code",
   "execution_count": 55,
   "metadata": {},
   "outputs": [],
   "source": [
    "#Cómo la mayoría de los valores estan en true, optaremos por posicionar a los nulos como true, ya que es más probable que sigan disponibles a que estén ocupados.\n",
    "mexico[\"has_availability\"]=mexico[\"has_availability\"].fillna(\"t\")"
   ]
  },
  {
   "cell_type": "code",
   "execution_count": 56,
   "metadata": {},
   "outputs": [
    {
     "data": {
      "text/plain": [
       "first_review                   3656\n",
       "last_review                    3656\n",
       "review_scores_rating           3656\n",
       "review_scores_accuracy         3657\n",
       "review_scores_cleanliness      3657\n",
       "review_scores_checkin          3657\n",
       "review_scores_communication    3657\n",
       "review_scores_location         3657\n",
       "review_scores_value            3657\n",
       "reviews_per_month              3656\n",
       "dtype: int64"
      ]
     },
     "execution_count": 56,
     "metadata": {},
     "output_type": "execute_result"
    }
   ],
   "source": [
    "nulos = mexico.isnull().sum()\n",
    "columnas_con_nulos= nulos[nulos>0]\n",
    "columnas_con_nulos"
   ]
  },
  {
   "cell_type": "markdown",
   "metadata": {},
   "source": [
    "**first_review**"
   ]
  },
  {
   "cell_type": "code",
   "execution_count": 57,
   "metadata": {},
   "outputs": [],
   "source": [
    "mexico[\"first_review\"]=mexico[\"first_review\"].fillna(\"Not visited yet.\")\n",
    "#Las casillas nulas en este campo significan que nunca han sido visitadas. Es mejor especificar cuales lugares nunca han tenido huéspedes de la aplicación."
   ]
  },
  {
   "cell_type": "code",
   "execution_count": 58,
   "metadata": {},
   "outputs": [
    {
     "data": {
      "text/plain": [
       "last_review                    3656\n",
       "review_scores_rating           3656\n",
       "review_scores_accuracy         3657\n",
       "review_scores_cleanliness      3657\n",
       "review_scores_checkin          3657\n",
       "review_scores_communication    3657\n",
       "review_scores_location         3657\n",
       "review_scores_value            3657\n",
       "reviews_per_month              3656\n",
       "dtype: int64"
      ]
     },
     "execution_count": 58,
     "metadata": {},
     "output_type": "execute_result"
    }
   ],
   "source": [
    "nulos = mexico.isnull().sum()\n",
    "columnas_con_nulos= nulos[nulos>0]\n",
    "columnas_con_nulos"
   ]
  },
  {
   "cell_type": "markdown",
   "metadata": {},
   "source": [
    "**last_review**"
   ]
  },
  {
   "cell_type": "code",
   "execution_count": 60,
   "metadata": {},
   "outputs": [],
   "source": [
    "mexico[\"last_review\"]=mexico[\"last_review\"].fillna(\"Not visited yet.\")\n",
    "#Las casillas nulas en este campo significan que nunca han sido visitadas. Es mejor especificar cuales lugares nunca han tenido huéspedes de la aplicación."
   ]
  },
  {
   "cell_type": "code",
   "execution_count": 61,
   "metadata": {},
   "outputs": [
    {
     "data": {
      "text/plain": [
       "review_scores_rating           3656\n",
       "review_scores_accuracy         3657\n",
       "review_scores_cleanliness      3657\n",
       "review_scores_checkin          3657\n",
       "review_scores_communication    3657\n",
       "review_scores_location         3657\n",
       "review_scores_value            3657\n",
       "reviews_per_month              3656\n",
       "dtype: int64"
      ]
     },
     "execution_count": 61,
     "metadata": {},
     "output_type": "execute_result"
    }
   ],
   "source": [
    "nulos = mexico.isnull().sum()\n",
    "columnas_con_nulos= nulos[nulos>0]\n",
    "columnas_con_nulos"
   ]
  },
  {
   "cell_type": "markdown",
   "metadata": {},
   "source": [
    "En cada uno de los elementos nulos en las reviews o críticas, usaremos como valor base el 0, ya que al no tener reseñas no tiene una calificación actual, y esto aparte ayudará a que se pueda diferenciar aquellos sitios que no han sido calificados (puntuación de 0) con los que sí, ya que Airbnb permite calificaciones de 1 a 5 por lo que sus valores minimos no pueden llegar a 0. Todo esto con el fin de no alterar datos y darles un valor a los que no lo tengan. Aparte que esta técnica ya se utiliza en la base de datos en otros campos por lo que lo consideramos algo óptimo."
   ]
  },
  {
   "cell_type": "markdown",
   "metadata": {},
   "source": [
    "**review_scores_rating**"
   ]
  },
  {
   "cell_type": "code",
   "execution_count": 62,
   "metadata": {},
   "outputs": [],
   "source": [
    "mexico[\"review_scores_rating\"]=mexico[\"review_scores_rating\"].fillna(0)"
   ]
  },
  {
   "cell_type": "code",
   "execution_count": 63,
   "metadata": {},
   "outputs": [
    {
     "data": {
      "text/plain": [
       "review_scores_accuracy         3657\n",
       "review_scores_cleanliness      3657\n",
       "review_scores_checkin          3657\n",
       "review_scores_communication    3657\n",
       "review_scores_location         3657\n",
       "review_scores_value            3657\n",
       "reviews_per_month              3656\n",
       "dtype: int64"
      ]
     },
     "execution_count": 63,
     "metadata": {},
     "output_type": "execute_result"
    }
   ],
   "source": [
    "nulos = mexico.isnull().sum()\n",
    "columnas_con_nulos= nulos[nulos>0]\n",
    "columnas_con_nulos"
   ]
  },
  {
   "cell_type": "markdown",
   "metadata": {},
   "source": [
    "**review_scores_accuracy**"
   ]
  },
  {
   "cell_type": "code",
   "execution_count": 64,
   "metadata": {},
   "outputs": [],
   "source": [
    "mexico[\"review_scores_accuracy\"]=mexico[\"review_scores_accuracy\"].fillna(0)"
   ]
  },
  {
   "cell_type": "code",
   "execution_count": 65,
   "metadata": {},
   "outputs": [
    {
     "data": {
      "text/plain": [
       "review_scores_cleanliness      3657\n",
       "review_scores_checkin          3657\n",
       "review_scores_communication    3657\n",
       "review_scores_location         3657\n",
       "review_scores_value            3657\n",
       "reviews_per_month              3656\n",
       "dtype: int64"
      ]
     },
     "execution_count": 65,
     "metadata": {},
     "output_type": "execute_result"
    }
   ],
   "source": [
    "nulos = mexico.isnull().sum()\n",
    "columnas_con_nulos= nulos[nulos>0]\n",
    "columnas_con_nulos"
   ]
  },
  {
   "cell_type": "markdown",
   "metadata": {},
   "source": [
    "**review_scores_cleanliness**"
   ]
  },
  {
   "cell_type": "code",
   "execution_count": 66,
   "metadata": {},
   "outputs": [],
   "source": [
    "mexico[\"review_scores_cleanliness\"]=mexico[\"review_scores_cleanliness\"].fillna(0)"
   ]
  },
  {
   "cell_type": "code",
   "execution_count": 67,
   "metadata": {},
   "outputs": [
    {
     "data": {
      "text/plain": [
       "review_scores_checkin          3657\n",
       "review_scores_communication    3657\n",
       "review_scores_location         3657\n",
       "review_scores_value            3657\n",
       "reviews_per_month              3656\n",
       "dtype: int64"
      ]
     },
     "execution_count": 67,
     "metadata": {},
     "output_type": "execute_result"
    }
   ],
   "source": [
    "nulos = mexico.isnull().sum()\n",
    "columnas_con_nulos= nulos[nulos>0]\n",
    "columnas_con_nulos"
   ]
  },
  {
   "cell_type": "markdown",
   "metadata": {},
   "source": [
    "**review_scores_checkin**"
   ]
  },
  {
   "cell_type": "code",
   "execution_count": 68,
   "metadata": {},
   "outputs": [],
   "source": [
    "mexico[\"review_scores_checkin\"]=mexico[\"review_scores_checkin\"].fillna(0)"
   ]
  },
  {
   "cell_type": "code",
   "execution_count": 69,
   "metadata": {},
   "outputs": [
    {
     "data": {
      "text/plain": [
       "review_scores_communication    3657\n",
       "review_scores_location         3657\n",
       "review_scores_value            3657\n",
       "reviews_per_month              3656\n",
       "dtype: int64"
      ]
     },
     "execution_count": 69,
     "metadata": {},
     "output_type": "execute_result"
    }
   ],
   "source": [
    "nulos = mexico.isnull().sum()\n",
    "columnas_con_nulos= nulos[nulos>0]\n",
    "columnas_con_nulos"
   ]
  },
  {
   "cell_type": "markdown",
   "metadata": {},
   "source": [
    "**review_scores_communication**"
   ]
  },
  {
   "cell_type": "code",
   "execution_count": 70,
   "metadata": {},
   "outputs": [],
   "source": [
    "mexico[\"review_scores_communication\"]=mexico[\"review_scores_communication\"].fillna(0)"
   ]
  },
  {
   "cell_type": "code",
   "execution_count": 71,
   "metadata": {},
   "outputs": [
    {
     "data": {
      "text/plain": [
       "review_scores_location    3657\n",
       "review_scores_value       3657\n",
       "reviews_per_month         3656\n",
       "dtype: int64"
      ]
     },
     "execution_count": 71,
     "metadata": {},
     "output_type": "execute_result"
    }
   ],
   "source": [
    "nulos = mexico.isnull().sum()\n",
    "columnas_con_nulos= nulos[nulos>0]\n",
    "columnas_con_nulos"
   ]
  },
  {
   "cell_type": "markdown",
   "metadata": {},
   "source": [
    "**review_scores_location**"
   ]
  },
  {
   "cell_type": "code",
   "execution_count": 72,
   "metadata": {},
   "outputs": [],
   "source": [
    "mexico[\"review_scores_location\"]=mexico[\"review_scores_location\"].fillna(0)"
   ]
  },
  {
   "cell_type": "code",
   "execution_count": 73,
   "metadata": {},
   "outputs": [
    {
     "data": {
      "text/plain": [
       "review_scores_value    3657\n",
       "reviews_per_month      3656\n",
       "dtype: int64"
      ]
     },
     "execution_count": 73,
     "metadata": {},
     "output_type": "execute_result"
    }
   ],
   "source": [
    "nulos = mexico.isnull().sum()\n",
    "columnas_con_nulos= nulos[nulos>0]\n",
    "columnas_con_nulos"
   ]
  },
  {
   "cell_type": "markdown",
   "metadata": {},
   "source": [
    "**review_scores_value**"
   ]
  },
  {
   "cell_type": "code",
   "execution_count": 74,
   "metadata": {},
   "outputs": [],
   "source": [
    "mexico[\"review_scores_value\"]=mexico[\"review_scores_value\"].fillna(0)"
   ]
  },
  {
   "cell_type": "code",
   "execution_count": 75,
   "metadata": {},
   "outputs": [
    {
     "data": {
      "text/plain": [
       "reviews_per_month    3656\n",
       "dtype: int64"
      ]
     },
     "execution_count": 75,
     "metadata": {},
     "output_type": "execute_result"
    }
   ],
   "source": [
    "nulos = mexico.isnull().sum()\n",
    "columnas_con_nulos= nulos[nulos>0]\n",
    "columnas_con_nulos"
   ]
  },
  {
   "cell_type": "code",
   "execution_count": 76,
   "metadata": {},
   "outputs": [
    {
     "data": {
      "text/plain": [
       "id                                                 0\n",
       "source                                             0\n",
       "name                                               0\n",
       "description                                        0\n",
       "neighborhood_overview                              0\n",
       "host_id                                            0\n",
       "host_name                                          0\n",
       "host_response_time                                 0\n",
       "host_response_rate                                 0\n",
       "host_acceptance_rate                               0\n",
       "host_is_superhost                                  0\n",
       "neighbourhood_cleansed                             0\n",
       "neighbourhood_group_cleansed                       0\n",
       "latitude                                           0\n",
       "longitude                                          0\n",
       "property_type                                      0\n",
       "room_type                                          0\n",
       "accommodates                                       0\n",
       "bathrooms                                          0\n",
       "bedrooms                                           0\n",
       "beds                                               0\n",
       "amenities                                          0\n",
       "price                                              0\n",
       "minimum_nights                                     0\n",
       "maximum_nights                                     0\n",
       "minimum_nights_avg_ntm                             0\n",
       "maximum_nights_avg_ntm                             0\n",
       "has_availability                                   0\n",
       "availability_30                                    0\n",
       "availability_60                                    0\n",
       "availability_90                                    0\n",
       "availability_365                                   0\n",
       "number_of_reviews                                  0\n",
       "number_of_reviews_ltm                              0\n",
       "number_of_reviews_l30d                             0\n",
       "first_review                                       0\n",
       "last_review                                        0\n",
       "review_scores_rating                               0\n",
       "review_scores_accuracy                             0\n",
       "review_scores_cleanliness                          0\n",
       "review_scores_checkin                              0\n",
       "review_scores_communication                        0\n",
       "review_scores_location                             0\n",
       "review_scores_value                                0\n",
       "instant_bookable                                   0\n",
       "calculated_host_listings_count                     0\n",
       "calculated_host_listings_count_entire_homes        0\n",
       "calculated_host_listings_count_private_rooms       0\n",
       "calculated_host_listings_count_shared_rooms        0\n",
       "reviews_per_month                               3656\n",
       "dtype: int64"
      ]
     },
     "execution_count": 76,
     "metadata": {},
     "output_type": "execute_result"
    }
   ],
   "source": [
    "nulos = mexico.isnull().sum()\n",
    "nulos"
   ]
  },
  {
   "cell_type": "markdown",
   "metadata": {},
   "source": [
    "**reviews_per_month**"
   ]
  },
  {
   "cell_type": "code",
   "execution_count": 77,
   "metadata": {},
   "outputs": [],
   "source": [
    "mexico[\"reviews_per_month\"]=mexico[\"reviews_per_month\"].fillna(0)"
   ]
  },
  {
   "cell_type": "code",
   "execution_count": 78,
   "metadata": {},
   "outputs": [
    {
     "data": {
      "text/plain": [
       "id                                              0\n",
       "source                                          0\n",
       "name                                            0\n",
       "description                                     0\n",
       "neighborhood_overview                           0\n",
       "host_id                                         0\n",
       "host_name                                       0\n",
       "host_response_time                              0\n",
       "host_response_rate                              0\n",
       "host_acceptance_rate                            0\n",
       "host_is_superhost                               0\n",
       "neighbourhood_cleansed                          0\n",
       "neighbourhood_group_cleansed                    0\n",
       "latitude                                        0\n",
       "longitude                                       0\n",
       "property_type                                   0\n",
       "room_type                                       0\n",
       "accommodates                                    0\n",
       "bathrooms                                       0\n",
       "bedrooms                                        0\n",
       "beds                                            0\n",
       "amenities                                       0\n",
       "price                                           0\n",
       "minimum_nights                                  0\n",
       "maximum_nights                                  0\n",
       "minimum_nights_avg_ntm                          0\n",
       "maximum_nights_avg_ntm                          0\n",
       "has_availability                                0\n",
       "availability_30                                 0\n",
       "availability_60                                 0\n",
       "availability_90                                 0\n",
       "availability_365                                0\n",
       "number_of_reviews                               0\n",
       "number_of_reviews_ltm                           0\n",
       "number_of_reviews_l30d                          0\n",
       "first_review                                    0\n",
       "last_review                                     0\n",
       "review_scores_rating                            0\n",
       "review_scores_accuracy                          0\n",
       "review_scores_cleanliness                       0\n",
       "review_scores_checkin                           0\n",
       "review_scores_communication                     0\n",
       "review_scores_location                          0\n",
       "review_scores_value                             0\n",
       "instant_bookable                                0\n",
       "calculated_host_listings_count                  0\n",
       "calculated_host_listings_count_entire_homes     0\n",
       "calculated_host_listings_count_private_rooms    0\n",
       "calculated_host_listings_count_shared_rooms     0\n",
       "reviews_per_month                               0\n",
       "dtype: int64"
      ]
     },
     "execution_count": 78,
     "metadata": {},
     "output_type": "execute_result"
    }
   ],
   "source": [
    "nulos = mexico.isnull().sum()\n",
    "nulos"
   ]
  },
  {
   "cell_type": "code",
   "execution_count": 79,
   "metadata": {},
   "outputs": [
    {
     "data": {
      "text/plain": [
       "np.int64(0)"
      ]
     },
     "execution_count": 79,
     "metadata": {},
     "output_type": "execute_result"
    }
   ],
   "source": [
    "nulos = mexico.isnull().sum().sum()\n",
    "nulos"
   ]
  },
  {
   "cell_type": "code",
   "execution_count": 80,
   "metadata": {},
   "outputs": [],
   "source": [
    "mexico.to_csv(\"Mexico 50 sin nulos.csv\")"
   ]
  }
 ],
 "metadata": {
  "kernelspec": {
   "display_name": "Python 3",
   "language": "python",
   "name": "python3"
  },
  "language_info": {
   "codemirror_mode": {
    "name": "ipython",
    "version": 3
   },
   "file_extension": ".py",
   "mimetype": "text/x-python",
   "name": "python",
   "nbconvert_exporter": "python",
   "pygments_lexer": "ipython3",
   "version": "3.13.1"
  }
 },
 "nbformat": 4,
 "nbformat_minor": 2
}
